{
 "cells": [
  {
   "cell_type": "code",
   "execution_count": 23,
   "metadata": {},
   "outputs": [],
   "source": [
    "import pyspark\n"
   ]
  },
  {
   "cell_type": "code",
   "execution_count": 24,
   "metadata": {},
   "outputs": [],
   "source": [
    "from pyspark import SparkContext\n",
    "from pyspark.sql import SparkSession\n",
    "sc=SparkContext.getOrCreate()\n",
    "spark=SparkSession(sc)"
   ]
  },
  {
   "cell_type": "code",
   "execution_count": 25,
   "metadata": {},
   "outputs": [
    {
     "name": "stdout",
     "output_type": "stream",
     "text": [
      "+--------------------+--------+--------------------+--------------+--------------------+---------+------+------+---------------+-------+-------+-------+-------+-------+------+\n",
      "|             Address|  Amount|   Contribution Mode|Financial Year|                Name|PAN Given| Party|  Type|_corrupt_record|field10|field11|field12|field13|field14|field9|\n",
      "+--------------------+--------+--------------------+--------------+--------------------+---------+------+------+---------------+-------+-------+-------+-------+-------+------+\n",
      "|                null|    null|                null|          null|                null|     null|  null|  null|              [|   null|   null|   null|   null|   null|  null|\n",
      "|16-B, Ferozeshah ...| 3000000|                CASH|       2010-11|          Aziz Pasha|        Y|   CPI|Others|           null|       |       |       |       |       |      |\n",
      "|No.1, First Floor...|10000000|000037, HDFC Bank...|       2014-15|    V K Ramachandran|        Y|CPI(M)|Others|           null|       |       |       |       |       |      |\n",
      "|3, Motilal Nehru ...|  108000|Cheque, State Ban...|       2014-15|  Dr. Manmohan Singh|        N|   INC|Others|           null|       |       |       |       |       |      |\n",
      "|9,Firozshah Road ...|   54000|Through Bank Tran...|       2011-12| Dr. Manda Jagnathan|        N|   INC|Others|           null|       |       |       |       |       |      |\n",
      "|17,Dr.B.R.Mehta L...|   54000|Through Bank Tran...|       2011-12|    Prof. K.V.Thomas|        N|   INC|Others|           null|       |       |       |       |       |      |\n",
      "|31 Shamla Hills B...|  100000|          146865 SBI|       2011-12|     Sweta Chyouksey|        Y|   BJP|Others|           null|       |       |       |       |       |      |\n",
      "|45 Bunglows Bhopa...|  100000|          994966 SBI|       2011-12|   Uma Shankar Gupta|        N|   BJP|Others|           null|       |       |       |       |       |      |\n",
      "|                  --|   25000|14021,  Union Ban...|       2013-14|Parshwanath Bhakt...|        N|   BJP|Others|           null|       |       |       |       |       |      |\n",
      "|9 Santoshi Ayodhy...|  100000|          168278 SBI|       2011-12|Anand Constructio...|        Y|   BJP|Others|           null|       |       |       |       |       |      |\n",
      "|197, North Avenue...|   54000|       Bank Transfer|       2013-14|       Kamal Kashore|        N|   INC|Others|           null|       |       |       |       |       |      |\n",
      "|              Mumbai|  100000|955592 Bank Of In...|       2004-05|          R.V Pandit|        N|   BJP|Others|           null|       |       |       |       |       |      |\n",
      "|                  --|  100000|              430969|       2012-13|      A & T Infracon|        N|   BJP|Others|           null|       |       |       |       |       |      |\n",
      "|G/3 Phonix Buildi...|  300000|Cheque No.884045 ...|       2008-09|A 2 Z online  Ser...|        N|   BJP|Others|           null|       |       |       |       |       |      |\n",
      "|G/3 Phonix Buildi...|  200000|Cheque No-  88404...|       2008-09|A 2 Z online  Ser...|        N|   BJP|Others|           null|       |       |       |       |       |      |\n",
      "|G/3 Phonix Buildi...|  200000|Cheque No-  88404...|       2008-09|A 2 Z online  Ser...|        N|   BJP|Others|           null|       |       |       |       |       |      |\n",
      "|                  --|  125000|952450, Saraswat ...|       2012-13|A B Rolling Mills...|        N|   BJP|Others|           null|       |       |       |       |       |      |\n",
      "|82, Narbada Road ...|  100000|72437 Allahabad Bank|       2011-12|           A C Dixit|        N|   BJP|Others|           null|       |       |       |       |       |      |\n",
      "|S.F.S. Tirupati A...|  100000|174993, Union Ban...|       2014-15|        A D Builders|        Y|   BJP|Others|           null|       |       |       |       |       |      |\n",
      "|                  --|   21000|            234, BOI|       2012-13|               A Fox|        N|   BJP|Others|           null|       |       |       |       |       |      |\n",
      "+--------------------+--------+--------------------+--------------+--------------------+---------+------+------+---------------+-------+-------+-------+-------+-------+------+\n",
      "only showing top 20 rows\n",
      "\n"
     ]
    }
   ],
   "source": [
    "df=spark.read.json(\"donation_np.json\")\n",
    "df.show()"
   ]
  },
  {
   "cell_type": "code",
   "execution_count": 26,
   "metadata": {},
   "outputs": [],
   "source": [
    "df1=df.withColumnRenamed(\"contribution mode\",\"mode_of_payment\").withColumnRenamed(\"Financial Year\",\"fin_year \").withColumnRenamed(\"PAN Given \",\"pan_given\")"
   ]
  },
  {
   "cell_type": "code",
   "execution_count": 27,
   "metadata": {},
   "outputs": [
    {
     "name": "stdout",
     "output_type": "stream",
     "text": [
      "+--------------------+--------+--------------------+---------+--------------------+---------+------+------+---------------+-------+-------+-------+-------+-------+------+\n",
      "|             Address|  Amount|     mode_of_payment|fin_year |                Name|PAN Given| Party|  Type|_corrupt_record|field10|field11|field12|field13|field14|field9|\n",
      "+--------------------+--------+--------------------+---------+--------------------+---------+------+------+---------------+-------+-------+-------+-------+-------+------+\n",
      "|                null|    null|                null|     null|                null|     null|  null|  null|              [|   null|   null|   null|   null|   null|  null|\n",
      "|16-B, Ferozeshah ...| 3000000|                CASH|  2010-11|          Aziz Pasha|        Y|   CPI|Others|           null|       |       |       |       |       |      |\n",
      "|No.1, First Floor...|10000000|000037, HDFC Bank...|  2014-15|    V K Ramachandran|        Y|CPI(M)|Others|           null|       |       |       |       |       |      |\n",
      "|3, Motilal Nehru ...|  108000|Cheque, State Ban...|  2014-15|  Dr. Manmohan Singh|        N|   INC|Others|           null|       |       |       |       |       |      |\n",
      "|9,Firozshah Road ...|   54000|Through Bank Tran...|  2011-12| Dr. Manda Jagnathan|        N|   INC|Others|           null|       |       |       |       |       |      |\n",
      "|17,Dr.B.R.Mehta L...|   54000|Through Bank Tran...|  2011-12|    Prof. K.V.Thomas|        N|   INC|Others|           null|       |       |       |       |       |      |\n",
      "|31 Shamla Hills B...|  100000|          146865 SBI|  2011-12|     Sweta Chyouksey|        Y|   BJP|Others|           null|       |       |       |       |       |      |\n",
      "|45 Bunglows Bhopa...|  100000|          994966 SBI|  2011-12|   Uma Shankar Gupta|        N|   BJP|Others|           null|       |       |       |       |       |      |\n",
      "|                  --|   25000|14021,  Union Ban...|  2013-14|Parshwanath Bhakt...|        N|   BJP|Others|           null|       |       |       |       |       |      |\n",
      "|9 Santoshi Ayodhy...|  100000|          168278 SBI|  2011-12|Anand Constructio...|        Y|   BJP|Others|           null|       |       |       |       |       |      |\n",
      "|197, North Avenue...|   54000|       Bank Transfer|  2013-14|       Kamal Kashore|        N|   INC|Others|           null|       |       |       |       |       |      |\n",
      "|              Mumbai|  100000|955592 Bank Of In...|  2004-05|          R.V Pandit|        N|   BJP|Others|           null|       |       |       |       |       |      |\n",
      "|                  --|  100000|              430969|  2012-13|      A & T Infracon|        N|   BJP|Others|           null|       |       |       |       |       |      |\n",
      "|G/3 Phonix Buildi...|  300000|Cheque No.884045 ...|  2008-09|A 2 Z online  Ser...|        N|   BJP|Others|           null|       |       |       |       |       |      |\n",
      "|G/3 Phonix Buildi...|  200000|Cheque No-  88404...|  2008-09|A 2 Z online  Ser...|        N|   BJP|Others|           null|       |       |       |       |       |      |\n",
      "|G/3 Phonix Buildi...|  200000|Cheque No-  88404...|  2008-09|A 2 Z online  Ser...|        N|   BJP|Others|           null|       |       |       |       |       |      |\n",
      "|                  --|  125000|952450, Saraswat ...|  2012-13|A B Rolling Mills...|        N|   BJP|Others|           null|       |       |       |       |       |      |\n",
      "|82, Narbada Road ...|  100000|72437 Allahabad Bank|  2011-12|           A C Dixit|        N|   BJP|Others|           null|       |       |       |       |       |      |\n",
      "|S.F.S. Tirupati A...|  100000|174993, Union Ban...|  2014-15|        A D Builders|        Y|   BJP|Others|           null|       |       |       |       |       |      |\n",
      "|                  --|   21000|            234, BOI|  2012-13|               A Fox|        N|   BJP|Others|           null|       |       |       |       |       |      |\n",
      "+--------------------+--------+--------------------+---------+--------------------+---------+------+------+---------------+-------+-------+-------+-------+-------+------+\n",
      "only showing top 20 rows\n",
      "\n"
     ]
    }
   ],
   "source": [
    "df1.show()"
   ]
  },
  {
   "cell_type": "code",
   "execution_count": 28,
   "metadata": {},
   "outputs": [],
   "source": [
    "import hashlib\n",
    "\n",
    "def encrypt_val(address):\n",
    "\n",
    "    sha_value=hashlib.sha256(address.encode()).hexdigest()\n",
    "\n",
    "    return sha_value"
   ]
  },
  {
   "cell_type": "code",
   "execution_count": 29,
   "metadata": {},
   "outputs": [],
   "source": [
    "from pyspark.sql.functions import *\n",
    "\n",
    "from pyspark.sql.types import *\n",
    "\n",
    "\n",
    "\n",
    "spark_udf = udf(encrypt_val, StringType())\n",
    "\n",
    "df2=df1.withColumn('encrypted_value',md5(col(\"address\")))"
   ]
  },
  {
   "cell_type": "code",
   "execution_count": 30,
   "metadata": {},
   "outputs": [
    {
     "name": "stdout",
     "output_type": "stream",
     "text": [
      "+--------------------+--------+--------------------+---------+--------------------+---------+------+------+---------------+-------+-------+-------+-------+-------+------+--------------------+\n",
      "|             Address|  Amount|     mode_of_payment|fin_year |                Name|PAN Given| Party|  Type|_corrupt_record|field10|field11|field12|field13|field14|field9|     encrypted_value|\n",
      "+--------------------+--------+--------------------+---------+--------------------+---------+------+------+---------------+-------+-------+-------+-------+-------+------+--------------------+\n",
      "|                null|    null|                null|     null|                null|     null|  null|  null|              [|   null|   null|   null|   null|   null|  null|                null|\n",
      "|16-B, Ferozeshah ...| 3000000|                CASH|  2010-11|          Aziz Pasha|        Y|   CPI|Others|           null|       |       |       |       |       |      |44bca5383d6dae229...|\n",
      "|No.1, First Floor...|10000000|000037, HDFC Bank...|  2014-15|    V K Ramachandran|        Y|CPI(M)|Others|           null|       |       |       |       |       |      |3d5fc135c2defdd47...|\n",
      "|3, Motilal Nehru ...|  108000|Cheque, State Ban...|  2014-15|  Dr. Manmohan Singh|        N|   INC|Others|           null|       |       |       |       |       |      |425cb8edfacd38d97...|\n",
      "|9,Firozshah Road ...|   54000|Through Bank Tran...|  2011-12| Dr. Manda Jagnathan|        N|   INC|Others|           null|       |       |       |       |       |      |39532b270ae265a0e...|\n",
      "|17,Dr.B.R.Mehta L...|   54000|Through Bank Tran...|  2011-12|    Prof. K.V.Thomas|        N|   INC|Others|           null|       |       |       |       |       |      |e5eaf382bb92f67dd...|\n",
      "|31 Shamla Hills B...|  100000|          146865 SBI|  2011-12|     Sweta Chyouksey|        Y|   BJP|Others|           null|       |       |       |       |       |      |aebd8d41127096039...|\n",
      "|45 Bunglows Bhopa...|  100000|          994966 SBI|  2011-12|   Uma Shankar Gupta|        N|   BJP|Others|           null|       |       |       |       |       |      |a6bdeec2ba637e946...|\n",
      "|                  --|   25000|14021,  Union Ban...|  2013-14|Parshwanath Bhakt...|        N|   BJP|Others|           null|       |       |       |       |       |      |cfab1ba8c67c7c838...|\n",
      "|9 Santoshi Ayodhy...|  100000|          168278 SBI|  2011-12|Anand Constructio...|        Y|   BJP|Others|           null|       |       |       |       |       |      |5ccb472bc1ee506b7...|\n",
      "|197, North Avenue...|   54000|       Bank Transfer|  2013-14|       Kamal Kashore|        N|   INC|Others|           null|       |       |       |       |       |      |58c899d47e71fefc0...|\n",
      "|              Mumbai|  100000|955592 Bank Of In...|  2004-05|          R.V Pandit|        N|   BJP|Others|           null|       |       |       |       |       |      |8ebaad59980c95ade...|\n",
      "|                  --|  100000|              430969|  2012-13|      A & T Infracon|        N|   BJP|Others|           null|       |       |       |       |       |      |cfab1ba8c67c7c838...|\n",
      "|G/3 Phonix Buildi...|  300000|Cheque No.884045 ...|  2008-09|A 2 Z online  Ser...|        N|   BJP|Others|           null|       |       |       |       |       |      |5f66b784ed12e98da...|\n",
      "|G/3 Phonix Buildi...|  200000|Cheque No-  88404...|  2008-09|A 2 Z online  Ser...|        N|   BJP|Others|           null|       |       |       |       |       |      |ef5d649a1b988ac24...|\n",
      "|G/3 Phonix Buildi...|  200000|Cheque No-  88404...|  2008-09|A 2 Z online  Ser...|        N|   BJP|Others|           null|       |       |       |       |       |      |ef5d649a1b988ac24...|\n",
      "|                  --|  125000|952450, Saraswat ...|  2012-13|A B Rolling Mills...|        N|   BJP|Others|           null|       |       |       |       |       |      |cfab1ba8c67c7c838...|\n",
      "|82, Narbada Road ...|  100000|72437 Allahabad Bank|  2011-12|           A C Dixit|        N|   BJP|Others|           null|       |       |       |       |       |      |c21350ba3c204bdb4...|\n",
      "|S.F.S. Tirupati A...|  100000|174993, Union Ban...|  2014-15|        A D Builders|        Y|   BJP|Others|           null|       |       |       |       |       |      |8e87f885f49d595c2...|\n",
      "|                  --|   21000|            234, BOI|  2012-13|               A Fox|        N|   BJP|Others|           null|       |       |       |       |       |      |cfab1ba8c67c7c838...|\n",
      "+--------------------+--------+--------------------+---------+--------------------+---------+------+------+---------------+-------+-------+-------+-------+-------+------+--------------------+\n",
      "only showing top 20 rows\n",
      "\n"
     ]
    }
   ],
   "source": [
    "df2.show()"
   ]
  },
  {
   "cell_type": "code",
   "execution_count": 31,
   "metadata": {},
   "outputs": [
    {
     "name": "stdout",
     "output_type": "stream",
     "text": [
      "+--------------------+--------+--------------------+---------+--------------------+---------+------+------+---------------+-------+-------+-------+-------+-------+------+--------------------+\n",
      "|             Address|  Amount|     mode_of_payment|fin_year |                Name|PAN Given| Party|  Type|_corrupt_record|field10|field11|field12|field13|field14|field9|     encrypted_value|\n",
      "+--------------------+--------+--------------------+---------+--------------------+---------+------+------+---------------+-------+-------+-------+-------+-------+------+--------------------+\n",
      "|                null|    null|                null|     null|                null|     null|  null|  null|              [|   null|   null|   null|   null|   null|  null|                null|\n",
      "|16-B, Ferozeshah ...| 3000000|                CASH|  2010-11|          Aziz Pasha|        Y|   CPI|Others|           null|       |       |       |       |       |      |44bca5383d6dae229...|\n",
      "|No.1, First Floor...|10000000|000037, HDFC Bank...|  2014-15|    V K Ramachandran|        Y|CPI(M)|Others|           null|       |       |       |       |       |      |3d5fc135c2defdd47...|\n",
      "|3, Motilal Nehru ...|  108000|Cheque, State Ban...|  2014-15|  Dr. Manmohan Singh|        N|   INC|Others|           null|       |       |       |       |       |      |425cb8edfacd38d97...|\n",
      "|9,Firozshah Road ...|   54000|Through Bank Tran...|  2011-12| Dr. Manda Jagnathan|        N|   INC|Others|           null|       |       |       |       |       |      |39532b270ae265a0e...|\n",
      "|17,Dr.B.R.Mehta L...|   54000|Through Bank Tran...|  2011-12|    Prof. K.V.Thomas|        N|   INC|Others|           null|       |       |       |       |       |      |e5eaf382bb92f67dd...|\n",
      "|31 Shamla Hills B...|  100000|          146865 SBI|  2011-12|     Sweta Chyouksey|        Y|   BJP|Others|           null|       |       |       |       |       |      |aebd8d41127096039...|\n",
      "|45 Bunglows Bhopa...|  100000|          994966 SBI|  2011-12|   Uma Shankar Gupta|        N|   BJP|Others|           null|       |       |       |       |       |      |a6bdeec2ba637e946...|\n",
      "|                  --|   25000|14021,  Union Ban...|  2013-14|Parshwanath Bhakt...|        N|   BJP|Others|           null|       |       |       |       |       |      |cfab1ba8c67c7c838...|\n",
      "|9 Santoshi Ayodhy...|  100000|          168278 SBI|  2011-12|Anand Constructio...|        Y|   BJP|Others|           null|       |       |       |       |       |      |5ccb472bc1ee506b7...|\n",
      "|197, North Avenue...|   54000|       Bank Transfer|  2013-14|       Kamal Kashore|        N|   INC|Others|           null|       |       |       |       |       |      |58c899d47e71fefc0...|\n",
      "|              Mumbai|  100000|955592 Bank Of In...|  2004-05|          R.V Pandit|        N|   BJP|Others|           null|       |       |       |       |       |      |8ebaad59980c95ade...|\n",
      "|                  --|  100000|              430969|  2012-13|      A & T Infracon|        N|   BJP|Others|           null|       |       |       |       |       |      |cfab1ba8c67c7c838...|\n",
      "|G/3 Phonix Buildi...|  300000|Cheque No.884045 ...|  2008-09|A 2 Z online  Ser...|        N|   BJP|Others|           null|       |       |       |       |       |      |5f66b784ed12e98da...|\n",
      "|G/3 Phonix Buildi...|  200000|Cheque No-  88404...|  2008-09|A 2 Z online  Ser...|        N|   BJP|Others|           null|       |       |       |       |       |      |ef5d649a1b988ac24...|\n",
      "|G/3 Phonix Buildi...|  200000|Cheque No-  88404...|  2008-09|A 2 Z online  Ser...|        N|   BJP|Others|           null|       |       |       |       |       |      |ef5d649a1b988ac24...|\n",
      "|                  --|  125000|952450, Saraswat ...|  2012-13|A B Rolling Mills...|        N|   BJP|Others|           null|       |       |       |       |       |      |cfab1ba8c67c7c838...|\n",
      "|82, Narbada Road ...|  100000|72437 Allahabad Bank|  2011-12|           A C Dixit|        N|   BJP|Others|           null|       |       |       |       |       |      |c21350ba3c204bdb4...|\n",
      "|S.F.S. Tirupati A...|  100000|174993, Union Ban...|  2014-15|        A D Builders|        Y|   BJP|Others|           null|       |       |       |       |       |      |8e87f885f49d595c2...|\n",
      "|                  --|   21000|            234, BOI|  2012-13|               A Fox|        N|   BJP|Others|           null|       |       |       |       |       |      |cfab1ba8c67c7c838...|\n",
      "+--------------------+--------+--------------------+---------+--------------------+---------+------+------+---------------+-------+-------+-------+-------+-------+------+--------------------+\n",
      "only showing top 20 rows\n",
      "\n"
     ]
    }
   ],
   "source": [
    "df2.show()"
   ]
  },
  {
   "cell_type": "code",
   "execution_count": 32,
   "metadata": {},
   "outputs": [],
   "source": [
    "from pyspark.sql.functions import when\n",
    "\n",
    "from pyspark.sql.functions import lower, col\n",
    "\n",
    "df3 = df2.withColumn(\"payment_seperated\", when(lower(df2[\"mode_of_payment\"]).contains('cash'), 'Cash').when(lower(df2[\"mode_of_payment\"]).contains('cheque') | lower(df2[\"mode_of_payment\"]).contains('ch.') | lower(df2[\"mode_of_payment\"]).contains('ch no'), 'Cheque').when(lower(df2[\"mode_of_payment\"]).contains('bank'), 'Bank').otherwise('Others'))"
   ]
  },
  {
   "cell_type": "code",
   "execution_count": 33,
   "metadata": {},
   "outputs": [
    {
     "name": "stdout",
     "output_type": "stream",
     "text": [
      "+--------------------+--------+--------------------+---------+--------------------+---------+------+------+---------------+-------+-------+-------+-------+-------+------+--------------------+-----------------+\n",
      "|             Address|  Amount|     mode_of_payment|fin_year |                Name|PAN Given| Party|  Type|_corrupt_record|field10|field11|field12|field13|field14|field9|     encrypted_value|payment_seperated|\n",
      "+--------------------+--------+--------------------+---------+--------------------+---------+------+------+---------------+-------+-------+-------+-------+-------+------+--------------------+-----------------+\n",
      "|                null|    null|                null|     null|                null|     null|  null|  null|              [|   null|   null|   null|   null|   null|  null|                null|           Others|\n",
      "|16-B, Ferozeshah ...| 3000000|                CASH|  2010-11|          Aziz Pasha|        Y|   CPI|Others|           null|       |       |       |       |       |      |44bca5383d6dae229...|             Cash|\n",
      "|No.1, First Floor...|10000000|000037, HDFC Bank...|  2014-15|    V K Ramachandran|        Y|CPI(M)|Others|           null|       |       |       |       |       |      |3d5fc135c2defdd47...|             Bank|\n",
      "|3, Motilal Nehru ...|  108000|Cheque, State Ban...|  2014-15|  Dr. Manmohan Singh|        N|   INC|Others|           null|       |       |       |       |       |      |425cb8edfacd38d97...|           Cheque|\n",
      "|9,Firozshah Road ...|   54000|Through Bank Tran...|  2011-12| Dr. Manda Jagnathan|        N|   INC|Others|           null|       |       |       |       |       |      |39532b270ae265a0e...|             Bank|\n",
      "|17,Dr.B.R.Mehta L...|   54000|Through Bank Tran...|  2011-12|    Prof. K.V.Thomas|        N|   INC|Others|           null|       |       |       |       |       |      |e5eaf382bb92f67dd...|             Bank|\n",
      "|31 Shamla Hills B...|  100000|          146865 SBI|  2011-12|     Sweta Chyouksey|        Y|   BJP|Others|           null|       |       |       |       |       |      |aebd8d41127096039...|           Others|\n",
      "|45 Bunglows Bhopa...|  100000|          994966 SBI|  2011-12|   Uma Shankar Gupta|        N|   BJP|Others|           null|       |       |       |       |       |      |a6bdeec2ba637e946...|           Others|\n",
      "|                  --|   25000|14021,  Union Ban...|  2013-14|Parshwanath Bhakt...|        N|   BJP|Others|           null|       |       |       |       |       |      |cfab1ba8c67c7c838...|             Bank|\n",
      "|9 Santoshi Ayodhy...|  100000|          168278 SBI|  2011-12|Anand Constructio...|        Y|   BJP|Others|           null|       |       |       |       |       |      |5ccb472bc1ee506b7...|           Others|\n",
      "|197, North Avenue...|   54000|       Bank Transfer|  2013-14|       Kamal Kashore|        N|   INC|Others|           null|       |       |       |       |       |      |58c899d47e71fefc0...|             Bank|\n",
      "|              Mumbai|  100000|955592 Bank Of In...|  2004-05|          R.V Pandit|        N|   BJP|Others|           null|       |       |       |       |       |      |8ebaad59980c95ade...|             Bank|\n",
      "|                  --|  100000|              430969|  2012-13|      A & T Infracon|        N|   BJP|Others|           null|       |       |       |       |       |      |cfab1ba8c67c7c838...|           Others|\n",
      "|G/3 Phonix Buildi...|  300000|Cheque No.884045 ...|  2008-09|A 2 Z online  Ser...|        N|   BJP|Others|           null|       |       |       |       |       |      |5f66b784ed12e98da...|           Cheque|\n",
      "|G/3 Phonix Buildi...|  200000|Cheque No-  88404...|  2008-09|A 2 Z online  Ser...|        N|   BJP|Others|           null|       |       |       |       |       |      |ef5d649a1b988ac24...|           Cheque|\n",
      "|G/3 Phonix Buildi...|  200000|Cheque No-  88404...|  2008-09|A 2 Z online  Ser...|        N|   BJP|Others|           null|       |       |       |       |       |      |ef5d649a1b988ac24...|           Cheque|\n",
      "|                  --|  125000|952450, Saraswat ...|  2012-13|A B Rolling Mills...|        N|   BJP|Others|           null|       |       |       |       |       |      |cfab1ba8c67c7c838...|             Bank|\n",
      "|82, Narbada Road ...|  100000|72437 Allahabad Bank|  2011-12|           A C Dixit|        N|   BJP|Others|           null|       |       |       |       |       |      |c21350ba3c204bdb4...|             Bank|\n",
      "|S.F.S. Tirupati A...|  100000|174993, Union Ban...|  2014-15|        A D Builders|        Y|   BJP|Others|           null|       |       |       |       |       |      |8e87f885f49d595c2...|             Bank|\n",
      "|                  --|   21000|            234, BOI|  2012-13|               A Fox|        N|   BJP|Others|           null|       |       |       |       |       |      |cfab1ba8c67c7c838...|           Others|\n",
      "+--------------------+--------+--------------------+---------+--------------------+---------+------+------+---------------+-------+-------+-------+-------+-------+------+--------------------+-----------------+\n",
      "only showing top 20 rows\n",
      "\n"
     ]
    }
   ],
   "source": [
    "df3.show()"
   ]
  },
  {
   "cell_type": "code",
   "execution_count": 34,
   "metadata": {},
   "outputs": [],
   "source": [
    "# from pyspark.sql.types import IntegerType\n",
    "# df4=df3.withColumn(\"Amount\",col(\"Amount\").cast(\"int\"))\n",
    "# tmp=df4.groupBy(\"Party\").sum(\"Amount\")\n",
    "# cnt=df4.groupBy(\"Party\").count()\n",
    "# avgv=df4.groupBy(\"Party\").avg(\"Amount\")\n",
    "# mx=df4.groupBy(\"Party\").max(\"Amount\")\n",
    "\n",
    "from pyspark.sql.types import IntegerType\n",
    "\n",
    "df3 = df3.withColumn (\"Amount\", col (\"Amount\").cast(IntegerType())) \n",
    "sm =df3.groupBy('Party').sum(\"Amount\")\n",
    "\n",
    "cnt = df3.groupBy('Party').count() \n",
    "avgv= df3.groupBy('Party').avg(\"Amount\")\n",
    "\n",
    "mx = df3.groupBy('Party').max(\"Amount\")\n"
   ]
  },
  {
   "cell_type": "code",
   "execution_count": 35,
   "metadata": {},
   "outputs": [
    {
     "name": "stdout",
     "output_type": "stream",
     "text": [
      "+------+-----------+\n",
      "| Party|max(Amount)|\n",
      "+------+-----------+\n",
      "|   INC|  500000000|\n",
      "|   BJP|  500000000|\n",
      "|  null|       null|\n",
      "|   NCP|   50000000|\n",
      "|   CPI|    3000000|\n",
      "|CPI(M)|   10000000|\n",
      "+------+-----------+\n",
      "\n"
     ]
    }
   ],
   "source": [
    "mx.show()"
   ]
  },
  {
   "cell_type": "code",
   "execution_count": 36,
   "metadata": {},
   "outputs": [],
   "source": [
    "df3=df3.withColumn(\"INC_SUM_LTD\",\\\n",
    "when((df3.Party==\"INC\"),sm.collect()[0][1]).otherwise(0))\n",
    "df3=df3.withColumn(\"BJP_SUM_LTD\",\\\n",
    "when((df3.Party==\"BJP\"),sm.collect()[1][1]).otherwise(0))\n",
    "df3=df3.withColumn(\"NCP_SUM_LTD\",\\\n",
    "when((df3.Party==\"NCP\"),sm.collect()[3][1]).otherwise(0))\n",
    "df3=df3.withColumn(\"CPI_SUM_LTD\",\\\n",
    "when((df3.Party==\"CPI\"),sm.collect()[4][1]).otherwise(0))\n",
    "df3=df3.withColumn(\"CPI(M)_SUM_LTD\",\\\n",
    "when((df3.Party==\"CPI(M)\"),sm.collect()[5][1]).otherwise(0))\n",
    "\n",
    "\n",
    "\n"
   ]
  },
  {
   "cell_type": "code",
   "execution_count": 37,
   "metadata": {},
   "outputs": [
    {
     "name": "stdout",
     "output_type": "stream",
     "text": [
      "+--------------------+--------+--------------------+---------+--------------------+---------+------+------+---------------+-------+-------+-------+-------+-------+------+--------------------+-----------------+-----------+-----------+-----------+-----------+--------------+\n",
      "|             Address|  Amount|     mode_of_payment|fin_year |                Name|PAN Given| Party|  Type|_corrupt_record|field10|field11|field12|field13|field14|field9|     encrypted_value|payment_seperated|INC_SUM_LTD|BJP_SUM_LTD|NCP_SUM_LTD|CPI_SUM_LTD|CPI(M)_SUM_LTD|\n",
      "+--------------------+--------+--------------------+---------+--------------------+---------+------+------+---------------+-------+-------+-------+-------+-------+------+--------------------+-----------------+-----------+-----------+-----------+-----------+--------------+\n",
      "|                null|    null|                null|     null|                null|     null|  null|  null|              [|   null|   null|   null|   null|   null|  null|                null|           Others|          0|          0|          0|          0|             0|\n",
      "|16-B, Ferozeshah ...| 3000000|                CASH|  2010-11|          Aziz Pasha|        Y|   CPI|Others|           null|       |       |       |       |       |      |44bca5383d6dae229...|             Cash|          0|          0|          0|   68123698|             0|\n",
      "|No.1, First Floor...|10000000|000037, HDFC Bank...|  2014-15|    V K Ramachandran|        Y|CPI(M)|Others|           null|       |       |       |       |       |      |3d5fc135c2defdd47...|             Bank|          0|          0|          0|          0|     150622128|\n",
      "|3, Motilal Nehru ...|  108000|Cheque, State Ban...|  2014-15|  Dr. Manmohan Singh|        N|   INC|Others|           null|       |       |       |       |       |      |425cb8edfacd38d97...|           Cheque| 4031487349|          0|          0|          0|             0|\n",
      "|9,Firozshah Road ...|   54000|Through Bank Tran...|  2011-12| Dr. Manda Jagnathan|        N|   INC|Others|           null|       |       |       |       |       |      |39532b270ae265a0e...|             Bank| 4031487349|          0|          0|          0|             0|\n",
      "|17,Dr.B.R.Mehta L...|   54000|Through Bank Tran...|  2011-12|    Prof. K.V.Thomas|        N|   INC|Others|           null|       |       |       |       |       |      |e5eaf382bb92f67dd...|             Bank| 4031487349|          0|          0|          0|             0|\n",
      "|31 Shamla Hills B...|  100000|          146865 SBI|  2011-12|     Sweta Chyouksey|        Y|   BJP|Others|           null|       |       |       |       |       |      |aebd8d41127096039...|           Others|          0| 9295525996|          0|          0|             0|\n",
      "|45 Bunglows Bhopa...|  100000|          994966 SBI|  2011-12|   Uma Shankar Gupta|        N|   BJP|Others|           null|       |       |       |       |       |      |a6bdeec2ba637e946...|           Others|          0| 9295525996|          0|          0|             0|\n",
      "|                  --|   25000|14021,  Union Ban...|  2013-14|Parshwanath Bhakt...|        N|   BJP|Others|           null|       |       |       |       |       |      |cfab1ba8c67c7c838...|             Bank|          0| 9295525996|          0|          0|             0|\n",
      "|9 Santoshi Ayodhy...|  100000|          168278 SBI|  2011-12|Anand Constructio...|        Y|   BJP|Others|           null|       |       |       |       |       |      |5ccb472bc1ee506b7...|           Others|          0| 9295525996|          0|          0|             0|\n",
      "|197, North Avenue...|   54000|       Bank Transfer|  2013-14|       Kamal Kashore|        N|   INC|Others|           null|       |       |       |       |       |      |58c899d47e71fefc0...|             Bank| 4031487349|          0|          0|          0|             0|\n",
      "|              Mumbai|  100000|955592 Bank Of In...|  2004-05|          R.V Pandit|        N|   BJP|Others|           null|       |       |       |       |       |      |8ebaad59980c95ade...|             Bank|          0| 9295525996|          0|          0|             0|\n",
      "|                  --|  100000|              430969|  2012-13|      A & T Infracon|        N|   BJP|Others|           null|       |       |       |       |       |      |cfab1ba8c67c7c838...|           Others|          0| 9295525996|          0|          0|             0|\n",
      "|G/3 Phonix Buildi...|  300000|Cheque No.884045 ...|  2008-09|A 2 Z online  Ser...|        N|   BJP|Others|           null|       |       |       |       |       |      |5f66b784ed12e98da...|           Cheque|          0| 9295525996|          0|          0|             0|\n",
      "|G/3 Phonix Buildi...|  200000|Cheque No-  88404...|  2008-09|A 2 Z online  Ser...|        N|   BJP|Others|           null|       |       |       |       |       |      |ef5d649a1b988ac24...|           Cheque|          0| 9295525996|          0|          0|             0|\n",
      "|G/3 Phonix Buildi...|  200000|Cheque No-  88404...|  2008-09|A 2 Z online  Ser...|        N|   BJP|Others|           null|       |       |       |       |       |      |ef5d649a1b988ac24...|           Cheque|          0| 9295525996|          0|          0|             0|\n",
      "|                  --|  125000|952450, Saraswat ...|  2012-13|A B Rolling Mills...|        N|   BJP|Others|           null|       |       |       |       |       |      |cfab1ba8c67c7c838...|             Bank|          0| 9295525996|          0|          0|             0|\n",
      "|82, Narbada Road ...|  100000|72437 Allahabad Bank|  2011-12|           A C Dixit|        N|   BJP|Others|           null|       |       |       |       |       |      |c21350ba3c204bdb4...|             Bank|          0| 9295525996|          0|          0|             0|\n",
      "|S.F.S. Tirupati A...|  100000|174993, Union Ban...|  2014-15|        A D Builders|        Y|   BJP|Others|           null|       |       |       |       |       |      |8e87f885f49d595c2...|             Bank|          0| 9295525996|          0|          0|             0|\n",
      "|                  --|   21000|            234, BOI|  2012-13|               A Fox|        N|   BJP|Others|           null|       |       |       |       |       |      |cfab1ba8c67c7c838...|           Others|          0| 9295525996|          0|          0|             0|\n",
      "+--------------------+--------+--------------------+---------+--------------------+---------+------+------+---------------+-------+-------+-------+-------+-------+------+--------------------+-----------------+-----------+-----------+-----------+-----------+--------------+\n",
      "only showing top 20 rows\n",
      "\n"
     ]
    }
   ],
   "source": [
    "df3.show()"
   ]
  },
  {
   "cell_type": "code",
   "execution_count": 38,
   "metadata": {},
   "outputs": [],
   "source": [
    "df3=df3.withColumn(\"INC_COUNT_LTD\",\\\n",
    "when((df3.Party==\"INC\"),cnt.collect()[0][1]).otherwise(0))\n",
    "df3=df3.withColumn(\"BJP_COUNT_LTD\",\\\n",
    "when((df3.Party==\"BJP\"),cnt.collect()[1][1]).otherwise(0))\n",
    "df3=df3.withColumn(\"NCP_COUNT_LTD\",\\\n",
    "when((df3.Party==\"NCP\"),cnt.collect()[3][1]).otherwise(0))\n",
    "df3=df3.withColumn(\"CPI_COUNT_LTD\",\\\n",
    "when((df3.Party==\"CPI\"),cnt.collect()[4][1]).otherwise(0))\n",
    "df3=df3.withColumn(\"CPI(M)_COUNT_LTD\",\\\n",
    "when((df3.Party==\"CPI(M)\"),cnt.collect()[5][1]).otherwise(0))\n",
    "\n",
    "\n",
    "  "
   ]
  },
  {
   "cell_type": "code",
   "execution_count": 39,
   "metadata": {},
   "outputs": [
    {
     "name": "stdout",
     "output_type": "stream",
     "text": [
      "+--------------------+--------+--------------------+---------+--------------------+---------+------+------+---------------+-------+-------+-------+-------+-------+------+--------------------+-----------------+-----------+-----------+-----------+-----------+--------------+-------------+-------------+-------------+-------------+----------------+\n",
      "|             Address|  Amount|     mode_of_payment|fin_year |                Name|PAN Given| Party|  Type|_corrupt_record|field10|field11|field12|field13|field14|field9|     encrypted_value|payment_seperated|INC_SUM_LTD|BJP_SUM_LTD|NCP_SUM_LTD|CPI_SUM_LTD|CPI(M)_SUM_LTD|INC_COUNT_LTD|BJP_COUNT_LTD|NCP_COUNT_LTD|CPI_COUNT_LTD|CPI(M)_COUNT_LTD|\n",
      "+--------------------+--------+--------------------+---------+--------------------+---------+------+------+---------------+-------+-------+-------+-------+-------+------+--------------------+-----------------+-----------+-----------+-----------+-----------+--------------+-------------+-------------+-------------+-------------+----------------+\n",
      "|                null|    null|                null|     null|                null|     null|  null|  null|              [|   null|   null|   null|   null|   null|  null|                null|           Others|          0|          0|          0|          0|             0|            0|            0|            0|            0|               0|\n",
      "|16-B, Ferozeshah ...| 3000000|                CASH|  2010-11|          Aziz Pasha|        Y|   CPI|Others|           null|       |       |       |       |       |      |44bca5383d6dae229...|             Cash|          0|          0|          0|   68123698|             0|            0|            0|            0|          384|               0|\n",
      "|No.1, First Floor...|10000000|000037, HDFC Bank...|  2014-15|    V K Ramachandran|        Y|CPI(M)|Others|           null|       |       |       |       |       |      |3d5fc135c2defdd47...|             Bank|          0|          0|          0|          0|     150622128|            0|            0|            0|            0|             515|\n",
      "|3, Motilal Nehru ...|  108000|Cheque, State Ban...|  2014-15|  Dr. Manmohan Singh|        N|   INC|Others|           null|       |       |       |       |       |      |425cb8edfacd38d97...|           Cheque| 4031487349|          0|          0|          0|             0|         3785|            0|            0|            0|               0|\n",
      "|9,Firozshah Road ...|   54000|Through Bank Tran...|  2011-12| Dr. Manda Jagnathan|        N|   INC|Others|           null|       |       |       |       |       |      |39532b270ae265a0e...|             Bank| 4031487349|          0|          0|          0|             0|         3785|            0|            0|            0|               0|\n",
      "|17,Dr.B.R.Mehta L...|   54000|Through Bank Tran...|  2011-12|    Prof. K.V.Thomas|        N|   INC|Others|           null|       |       |       |       |       |      |e5eaf382bb92f67dd...|             Bank| 4031487349|          0|          0|          0|             0|         3785|            0|            0|            0|               0|\n",
      "|31 Shamla Hills B...|  100000|          146865 SBI|  2011-12|     Sweta Chyouksey|        Y|   BJP|Others|           null|       |       |       |       |       |      |aebd8d41127096039...|           Others|          0| 9295525996|          0|          0|             0|            0|         8782|            0|            0|               0|\n",
      "|45 Bunglows Bhopa...|  100000|          994966 SBI|  2011-12|   Uma Shankar Gupta|        N|   BJP|Others|           null|       |       |       |       |       |      |a6bdeec2ba637e946...|           Others|          0| 9295525996|          0|          0|             0|            0|         8782|            0|            0|               0|\n",
      "|                  --|   25000|14021,  Union Ban...|  2013-14|Parshwanath Bhakt...|        N|   BJP|Others|           null|       |       |       |       |       |      |cfab1ba8c67c7c838...|             Bank|          0| 9295525996|          0|          0|             0|            0|         8782|            0|            0|               0|\n",
      "|9 Santoshi Ayodhy...|  100000|          168278 SBI|  2011-12|Anand Constructio...|        Y|   BJP|Others|           null|       |       |       |       |       |      |5ccb472bc1ee506b7...|           Others|          0| 9295525996|          0|          0|             0|            0|         8782|            0|            0|               0|\n",
      "|197, North Avenue...|   54000|       Bank Transfer|  2013-14|       Kamal Kashore|        N|   INC|Others|           null|       |       |       |       |       |      |58c899d47e71fefc0...|             Bank| 4031487349|          0|          0|          0|             0|         3785|            0|            0|            0|               0|\n",
      "|              Mumbai|  100000|955592 Bank Of In...|  2004-05|          R.V Pandit|        N|   BJP|Others|           null|       |       |       |       |       |      |8ebaad59980c95ade...|             Bank|          0| 9295525996|          0|          0|             0|            0|         8782|            0|            0|               0|\n",
      "|                  --|  100000|              430969|  2012-13|      A & T Infracon|        N|   BJP|Others|           null|       |       |       |       |       |      |cfab1ba8c67c7c838...|           Others|          0| 9295525996|          0|          0|             0|            0|         8782|            0|            0|               0|\n",
      "|G/3 Phonix Buildi...|  300000|Cheque No.884045 ...|  2008-09|A 2 Z online  Ser...|        N|   BJP|Others|           null|       |       |       |       |       |      |5f66b784ed12e98da...|           Cheque|          0| 9295525996|          0|          0|             0|            0|         8782|            0|            0|               0|\n",
      "|G/3 Phonix Buildi...|  200000|Cheque No-  88404...|  2008-09|A 2 Z online  Ser...|        N|   BJP|Others|           null|       |       |       |       |       |      |ef5d649a1b988ac24...|           Cheque|          0| 9295525996|          0|          0|             0|            0|         8782|            0|            0|               0|\n",
      "|G/3 Phonix Buildi...|  200000|Cheque No-  88404...|  2008-09|A 2 Z online  Ser...|        N|   BJP|Others|           null|       |       |       |       |       |      |ef5d649a1b988ac24...|           Cheque|          0| 9295525996|          0|          0|             0|            0|         8782|            0|            0|               0|\n",
      "|                  --|  125000|952450, Saraswat ...|  2012-13|A B Rolling Mills...|        N|   BJP|Others|           null|       |       |       |       |       |      |cfab1ba8c67c7c838...|             Bank|          0| 9295525996|          0|          0|             0|            0|         8782|            0|            0|               0|\n",
      "|82, Narbada Road ...|  100000|72437 Allahabad Bank|  2011-12|           A C Dixit|        N|   BJP|Others|           null|       |       |       |       |       |      |c21350ba3c204bdb4...|             Bank|          0| 9295525996|          0|          0|             0|            0|         8782|            0|            0|               0|\n",
      "|S.F.S. Tirupati A...|  100000|174993, Union Ban...|  2014-15|        A D Builders|        Y|   BJP|Others|           null|       |       |       |       |       |      |8e87f885f49d595c2...|             Bank|          0| 9295525996|          0|          0|             0|            0|         8782|            0|            0|               0|\n",
      "|                  --|   21000|            234, BOI|  2012-13|               A Fox|        N|   BJP|Others|           null|       |       |       |       |       |      |cfab1ba8c67c7c838...|           Others|          0| 9295525996|          0|          0|             0|            0|         8782|            0|            0|               0|\n",
      "+--------------------+--------+--------------------+---------+--------------------+---------+------+------+---------------+-------+-------+-------+-------+-------+------+--------------------+-----------------+-----------+-----------+-----------+-----------+--------------+-------------+-------------+-------------+-------------+----------------+\n",
      "only showing top 20 rows\n",
      "\n"
     ]
    }
   ],
   "source": [
    "df3.show()"
   ]
  },
  {
   "cell_type": "code",
   "execution_count": 40,
   "metadata": {},
   "outputs": [],
   "source": [
    "df3=df3.withColumn(\"INC_AVG_LTD\",\\\n",
    "when((df3.Party==\"INC\"),avgv.collect()[0][1]).otherwise(0))\n",
    "df3=df3.withColumn(\"BJP_AVG_LTD\",\\\n",
    "when((df3.Party==\"BJP\"),avgv.collect()[1][1]).otherwise(0))\n",
    "df3=df3.withColumn(\"NCP_AVG_LTD\",\\\n",
    "when((df3.Party==\"NCP\"),avgv.collect()[3][1]).otherwise(0))\n",
    "df3=df3.withColumn(\"CPI_AVG_LTD\",\\\n",
    "when((df3.Party==\"CPI\"),avgv.collect()[4][1]).otherwise(0))\n",
    "df3=df3.withColumn(\"CPI(M)_AVG_LTD\",\\\n",
    "when((df3.Party==\"CPI(M)\"),avgv.collect()[5][1]).otherwise(0))\n",
    "\n",
    "\n",
    "\n",
    "   "
   ]
  },
  {
   "cell_type": "code",
   "execution_count": 41,
   "metadata": {},
   "outputs": [],
   "source": [
    "df3=df3.withColumn(\"INC_MAX_LTD\",\\\n",
    "when((df3.Party==\"INC\"),mx.collect()[0][1]).otherwise(0))\n",
    "df3=df3.withColumn(\"BJP_MAX_LTD\",\\\n",
    "when((df3.Party==\"BJP\"),mx.collect()[1][1]).otherwise(0))\n",
    "df3=df3.withColumn(\"NCP_MAX_LTD\",\\\n",
    "when((df3.Party==\"NCP\"),mx.collect()[3][1]).otherwise(0))\n",
    "df3=df3.withColumn(\"CPI_MAX_LTD\",\\\n",
    "when((df3.Party==\"CPI\"),mx.collect()[4][1]).otherwise(0))\n",
    "df3=df3.withColumn(\"CPI(M)_MAX_LTD\",\\\n",
    "when((df3.Party==\"CPI(M)\"),mx.collect()[5][1]).otherwise(0))\n",
    "\n",
    "\n",
    "\n"
   ]
  },
  {
   "cell_type": "code",
   "execution_count": 42,
   "metadata": {},
   "outputs": [],
   "source": [
    "\n",
    "inc_top_donor=df3.select(\"Name\").filter(df3.Amount==mx.collect()[0][1])\n",
    "bjp_top_donor=df3.select(\"Name\").filter(df3.Amount==mx.collect()[1][1])\n",
    "ncp_top_donor=df3.select(\"Name\").filter(df3.Amount==mx.collect()[3][1])\n",
    "cpi_top_donor=df3.select(\"Name\").filter(df3.Amount==mx.collect()[4][1])\n",
    "cpim_top_donor=df3.select(\"Name\").filter(df3.Amount==mx.collect()[5][1])"
   ]
  },
  {
   "cell_type": "code",
   "execution_count": 43,
   "metadata": {},
   "outputs": [],
   "source": [
    "\n",
    "\n",
    "df3=df3.withColumn(\"INC_TOP_DONOR\",\\\n",
    "when((df3.Party==\"INC\"),inc_top_donor.collect()[0][0]).otherwise('-'))\n",
    "df3=df3.withColumn(\"BJP_TOP_DONOR\",\\\n",
    "when((df3.Party==\"BJP\"),bjp_top_donor.collect()[0][0]).otherwise('-'))\n",
    "df3=df3.withColumn(\"NCP_TOP_DONOR\",\\\n",
    "when((df3.Party==\"NCP\"),ncp_top_donor.collect()[0][0]).otherwise('-'))\n",
    "df3=df3.withColumn(\"CPI_TOP_DONOR\",\\\n",
    "when((df3.Party==\"CPI\"),cpi_top_donor.collect()[0][0]).otherwise('-'))\n",
    "df3=df3.withColumn(\"CPI(M)_TOP_DONOR\",\\\n",
    "when((df3.Party==\"CPI(M)\"),cpim_top_donor.collect()[0][0]).otherwise('-'))\n",
    "\n",
    "\n",
    "\n"
   ]
  },
  {
   "cell_type": "code",
   "execution_count": 45,
   "metadata": {},
   "outputs": [
    {
     "name": "stdout",
     "output_type": "stream",
     "text": [
      "+--------------------+--------+--------------------+---------+--------------------+---------+------+------+---------------+-------+-------+-------+-------+-------+------+--------------------+-----------------+-----------+-----------+-----------+-----------+--------------+-------------+-------------+-------------+-------------+----------------+------------------+------------------+-----------+------------------+-----------------+-----------+-----------+-----------+-----------+--------------+--------------------+--------------------+-------------+-------------+----------------+\n",
      "|             Address|  Amount|     mode_of_payment|fin_year |                Name|PAN Given| Party|  Type|_corrupt_record|field10|field11|field12|field13|field14|field9|     encrypted_value|payment_seperated|INC_SUM_LTD|BJP_SUM_LTD|NCP_SUM_LTD|CPI_SUM_LTD|CPI(M)_SUM_LTD|INC_COUNT_LTD|BJP_COUNT_LTD|NCP_COUNT_LTD|CPI_COUNT_LTD|CPI(M)_COUNT_LTD|       INC_AVG_LTD|       BJP_AVG_LTD|NCP_AVG_LTD|       CPI_AVG_LTD|   CPI(M)_AVG_LTD|INC_MAX_LTD|BJP_MAX_LTD|NCP_MAX_LTD|CPI_MAX_LTD|CPI(M)_MAX_LTD|       INC_TOP_DONOR|       BJP_TOP_DONOR|NCP_TOP_DONOR|CPI_TOP_DONOR|CPI(M)_TOP_DONOR|\n",
      "+--------------------+--------+--------------------+---------+--------------------+---------+------+------+---------------+-------+-------+-------+-------+-------+------+--------------------+-----------------+-----------+-----------+-----------+-----------+--------------+-------------+-------------+-------------+-------------+----------------+------------------+------------------+-----------+------------------+-----------------+-----------+-----------+-----------+-----------+--------------+--------------------+--------------------+-------------+-------------+----------------+\n",
      "|                null|    null|                null|     null|                null|     null|  null|  null|              [|   null|   null|   null|   null|   null|  null|                null|           Others|          0|          0|          0|          0|             0|            0|            0|            0|            0|               0|               0.0|               0.0|        0.0|               0.0|              0.0|          0|          0|          0|          0|             0|                   -|                   -|            -|            -|               -|\n",
      "|16-B, Ferozeshah ...| 3000000|                CASH|  2010-11|          Aziz Pasha|        Y|   CPI|Others|           null|       |       |       |       |       |      |44bca5383d6dae229...|             Cash|          0|          0|          0|   68123698|             0|            0|            0|            0|          384|               0|               0.0|               0.0|        0.0|177405.46354166666|              0.0|          0|          0|          0|    3000000|             0|                   -|                   -|            -|   Aziz Pasha|               -|\n",
      "|No.1, First Floor...|10000000|000037, HDFC Bank...|  2014-15|    V K Ramachandran|        Y|CPI(M)|Others|           null|       |       |       |       |       |      |3d5fc135c2defdd47...|             Bank|          0|          0|          0|          0|     150622128|            0|            0|            0|            0|             515|               0.0|               0.0|        0.0|               0.0|292470.1514563107|          0|          0|          0|          0|      10000000|                   -|                   -|            -|            -|V K Ramachandran|\n",
      "|3, Motilal Nehru ...|  108000|Cheque, State Ban...|  2014-15|  Dr. Manmohan Singh|        N|   INC|Others|           null|       |       |       |       |       |      |425cb8edfacd38d97...|           Cheque| 4031487349|          0|          0|          0|             0|         3785|            0|            0|            0|               0|1065122.1529722589|               0.0|        0.0|               0.0|              0.0|  500000000|          0|          0|          0|             0|General Electoral...|                   -|            -|            -|               -|\n",
      "|9,Firozshah Road ...|   54000|Through Bank Tran...|  2011-12| Dr. Manda Jagnathan|        N|   INC|Others|           null|       |       |       |       |       |      |39532b270ae265a0e...|             Bank| 4031487349|          0|          0|          0|             0|         3785|            0|            0|            0|               0|1065122.1529722589|               0.0|        0.0|               0.0|              0.0|  500000000|          0|          0|          0|             0|General Electoral...|                   -|            -|            -|               -|\n",
      "|17,Dr.B.R.Mehta L...|   54000|Through Bank Tran...|  2011-12|    Prof. K.V.Thomas|        N|   INC|Others|           null|       |       |       |       |       |      |e5eaf382bb92f67dd...|             Bank| 4031487349|          0|          0|          0|             0|         3785|            0|            0|            0|               0|1065122.1529722589|               0.0|        0.0|               0.0|              0.0|  500000000|          0|          0|          0|             0|General Electoral...|                   -|            -|            -|               -|\n",
      "|31 Shamla Hills B...|  100000|          146865 SBI|  2011-12|     Sweta Chyouksey|        Y|   BJP|Others|           null|       |       |       |       |       |      |aebd8d41127096039...|           Others|          0| 9295525996|          0|          0|             0|            0|         8782|            0|            0|               0|               0.0|1058474.8344340697|        0.0|               0.0|              0.0|          0|  500000000|          0|          0|             0|                   -|General Electoral...|            -|            -|               -|\n",
      "|45 Bunglows Bhopa...|  100000|          994966 SBI|  2011-12|   Uma Shankar Gupta|        N|   BJP|Others|           null|       |       |       |       |       |      |a6bdeec2ba637e946...|           Others|          0| 9295525996|          0|          0|             0|            0|         8782|            0|            0|               0|               0.0|1058474.8344340697|        0.0|               0.0|              0.0|          0|  500000000|          0|          0|             0|                   -|General Electoral...|            -|            -|               -|\n",
      "|                  --|   25000|14021,  Union Ban...|  2013-14|Parshwanath Bhakt...|        N|   BJP|Others|           null|       |       |       |       |       |      |cfab1ba8c67c7c838...|             Bank|          0| 9295525996|          0|          0|             0|            0|         8782|            0|            0|               0|               0.0|1058474.8344340697|        0.0|               0.0|              0.0|          0|  500000000|          0|          0|             0|                   -|General Electoral...|            -|            -|               -|\n",
      "|9 Santoshi Ayodhy...|  100000|          168278 SBI|  2011-12|Anand Constructio...|        Y|   BJP|Others|           null|       |       |       |       |       |      |5ccb472bc1ee506b7...|           Others|          0| 9295525996|          0|          0|             0|            0|         8782|            0|            0|               0|               0.0|1058474.8344340697|        0.0|               0.0|              0.0|          0|  500000000|          0|          0|             0|                   -|General Electoral...|            -|            -|               -|\n",
      "|197, North Avenue...|   54000|       Bank Transfer|  2013-14|       Kamal Kashore|        N|   INC|Others|           null|       |       |       |       |       |      |58c899d47e71fefc0...|             Bank| 4031487349|          0|          0|          0|             0|         3785|            0|            0|            0|               0|1065122.1529722589|               0.0|        0.0|               0.0|              0.0|  500000000|          0|          0|          0|             0|General Electoral...|                   -|            -|            -|               -|\n",
      "|              Mumbai|  100000|955592 Bank Of In...|  2004-05|          R.V Pandit|        N|   BJP|Others|           null|       |       |       |       |       |      |8ebaad59980c95ade...|             Bank|          0| 9295525996|          0|          0|             0|            0|         8782|            0|            0|               0|               0.0|1058474.8344340697|        0.0|               0.0|              0.0|          0|  500000000|          0|          0|             0|                   -|General Electoral...|            -|            -|               -|\n",
      "|                  --|  100000|              430969|  2012-13|      A & T Infracon|        N|   BJP|Others|           null|       |       |       |       |       |      |cfab1ba8c67c7c838...|           Others|          0| 9295525996|          0|          0|             0|            0|         8782|            0|            0|               0|               0.0|1058474.8344340697|        0.0|               0.0|              0.0|          0|  500000000|          0|          0|             0|                   -|General Electoral...|            -|            -|               -|\n",
      "|G/3 Phonix Buildi...|  300000|Cheque No.884045 ...|  2008-09|A 2 Z online  Ser...|        N|   BJP|Others|           null|       |       |       |       |       |      |5f66b784ed12e98da...|           Cheque|          0| 9295525996|          0|          0|             0|            0|         8782|            0|            0|               0|               0.0|1058474.8344340697|        0.0|               0.0|              0.0|          0|  500000000|          0|          0|             0|                   -|General Electoral...|            -|            -|               -|\n",
      "|G/3 Phonix Buildi...|  200000|Cheque No-  88404...|  2008-09|A 2 Z online  Ser...|        N|   BJP|Others|           null|       |       |       |       |       |      |ef5d649a1b988ac24...|           Cheque|          0| 9295525996|          0|          0|             0|            0|         8782|            0|            0|               0|               0.0|1058474.8344340697|        0.0|               0.0|              0.0|          0|  500000000|          0|          0|             0|                   -|General Electoral...|            -|            -|               -|\n",
      "|G/3 Phonix Buildi...|  200000|Cheque No-  88404...|  2008-09|A 2 Z online  Ser...|        N|   BJP|Others|           null|       |       |       |       |       |      |ef5d649a1b988ac24...|           Cheque|          0| 9295525996|          0|          0|             0|            0|         8782|            0|            0|               0|               0.0|1058474.8344340697|        0.0|               0.0|              0.0|          0|  500000000|          0|          0|             0|                   -|General Electoral...|            -|            -|               -|\n",
      "|                  --|  125000|952450, Saraswat ...|  2012-13|A B Rolling Mills...|        N|   BJP|Others|           null|       |       |       |       |       |      |cfab1ba8c67c7c838...|             Bank|          0| 9295525996|          0|          0|             0|            0|         8782|            0|            0|               0|               0.0|1058474.8344340697|        0.0|               0.0|              0.0|          0|  500000000|          0|          0|             0|                   -|General Electoral...|            -|            -|               -|\n",
      "|82, Narbada Road ...|  100000|72437 Allahabad Bank|  2011-12|           A C Dixit|        N|   BJP|Others|           null|       |       |       |       |       |      |c21350ba3c204bdb4...|             Bank|          0| 9295525996|          0|          0|             0|            0|         8782|            0|            0|               0|               0.0|1058474.8344340697|        0.0|               0.0|              0.0|          0|  500000000|          0|          0|             0|                   -|General Electoral...|            -|            -|               -|\n",
      "|S.F.S. Tirupati A...|  100000|174993, Union Ban...|  2014-15|        A D Builders|        Y|   BJP|Others|           null|       |       |       |       |       |      |8e87f885f49d595c2...|             Bank|          0| 9295525996|          0|          0|             0|            0|         8782|            0|            0|               0|               0.0|1058474.8344340697|        0.0|               0.0|              0.0|          0|  500000000|          0|          0|             0|                   -|General Electoral...|            -|            -|               -|\n",
      "|                  --|   21000|            234, BOI|  2012-13|               A Fox|        N|   BJP|Others|           null|       |       |       |       |       |      |cfab1ba8c67c7c838...|           Others|          0| 9295525996|          0|          0|             0|            0|         8782|            0|            0|               0|               0.0|1058474.8344340697|        0.0|               0.0|              0.0|          0|  500000000|          0|          0|             0|                   -|General Electoral...|            -|            -|               -|\n",
      "+--------------------+--------+--------------------+---------+--------------------+---------+------+------+---------------+-------+-------+-------+-------+-------+------+--------------------+-----------------+-----------+-----------+-----------+-----------+--------------+-------------+-------------+-------------+-------------+----------------+------------------+------------------+-----------+------------------+-----------------+-----------+-----------+-----------+-----------+--------------+--------------------+--------------------+-------------+-------------+----------------+\n",
      "only showing top 20 rows\n",
      "\n"
     ]
    }
   ],
   "source": [
    "df3.show()"
   ]
  },
  {
   "cell_type": "code",
   "execution_count": null,
   "metadata": {},
   "outputs": [],
   "source": [
    "new = df.groupBy('fin_year','Party').sum(\"Amount\")"
   ]
  }
 ],
 "metadata": {
  "kernelspec": {
   "display_name": "Python 3.9.13 64-bit",
   "language": "python",
   "name": "python3"
  },
  "language_info": {
   "codemirror_mode": {
    "name": "ipython",
    "version": 3
   },
   "file_extension": ".py",
   "mimetype": "text/x-python",
   "name": "python",
   "nbconvert_exporter": "python",
   "pygments_lexer": "ipython3",
   "version": "3.9.13"
  },
  "orig_nbformat": 4,
  "vscode": {
   "interpreter": {
    "hash": "1b406d9e494b7a90968915192015585b059b0fa8a76745ce26e4efee3ebd6cd8"
   }
  }
 },
 "nbformat": 4,
 "nbformat_minor": 2
}
