{
 "cells": [
  {
   "cell_type": "code",
   "execution_count": 1,
   "id": "804d23b3",
   "metadata": {},
   "outputs": [],
   "source": [
    "import pandas as pd\n",
    "df = pd.read_csv (r'C:\\Users\\ppatil1\\Downloads\\DAX-Freshers-Training-main\\DAX-Freshers-Training-main\\healthcare-dataset-stroke-data.csv')"
   ]
  },
  {
   "cell_type": "code",
   "execution_count": 42,
   "id": "ae350bb3",
   "metadata": {},
   "outputs": [
    {
     "data": {
      "text/html": [
       "<div>\n",
       "<style scoped>\n",
       "    .dataframe tbody tr th:only-of-type {\n",
       "        vertical-align: middle;\n",
       "    }\n",
       "\n",
       "    .dataframe tbody tr th {\n",
       "        vertical-align: top;\n",
       "    }\n",
       "\n",
       "    .dataframe thead th {\n",
       "        text-align: right;\n",
       "    }\n",
       "</style>\n",
       "<table border=\"1\" class=\"dataframe\">\n",
       "  <thead>\n",
       "    <tr style=\"text-align: right;\">\n",
       "      <th></th>\n",
       "      <th>id</th>\n",
       "      <th>gender</th>\n",
       "      <th>age</th>\n",
       "      <th>hypertension</th>\n",
       "      <th>heart_disease</th>\n",
       "      <th>ever_married</th>\n",
       "      <th>work_type</th>\n",
       "      <th>Residence_type</th>\n",
       "      <th>avg_glucose_level</th>\n",
       "      <th>bmi</th>\n",
       "      <th>smoking_status</th>\n",
       "      <th>stroke</th>\n",
       "    </tr>\n",
       "  </thead>\n",
       "  <tbody>\n",
       "    <tr>\n",
       "      <th>0</th>\n",
       "      <td>9046</td>\n",
       "      <td>Male</td>\n",
       "      <td>67.0</td>\n",
       "      <td>0</td>\n",
       "      <td>1</td>\n",
       "      <td>Yes</td>\n",
       "      <td>Private</td>\n",
       "      <td>Urban</td>\n",
       "      <td>228.69</td>\n",
       "      <td>36.6</td>\n",
       "      <td>formerly smoked</td>\n",
       "      <td>1</td>\n",
       "    </tr>\n",
       "    <tr>\n",
       "      <th>1</th>\n",
       "      <td>51676</td>\n",
       "      <td>Female</td>\n",
       "      <td>61.0</td>\n",
       "      <td>0</td>\n",
       "      <td>0</td>\n",
       "      <td>Yes</td>\n",
       "      <td>Self-employed</td>\n",
       "      <td>Rural</td>\n",
       "      <td>202.21</td>\n",
       "      <td>28.9</td>\n",
       "      <td>never smoked</td>\n",
       "      <td>1</td>\n",
       "    </tr>\n",
       "    <tr>\n",
       "      <th>2</th>\n",
       "      <td>31112</td>\n",
       "      <td>Male</td>\n",
       "      <td>80.0</td>\n",
       "      <td>0</td>\n",
       "      <td>1</td>\n",
       "      <td>Yes</td>\n",
       "      <td>Private</td>\n",
       "      <td>Rural</td>\n",
       "      <td>105.92</td>\n",
       "      <td>32.5</td>\n",
       "      <td>never smoked</td>\n",
       "      <td>1</td>\n",
       "    </tr>\n",
       "    <tr>\n",
       "      <th>3</th>\n",
       "      <td>60182</td>\n",
       "      <td>Female</td>\n",
       "      <td>49.0</td>\n",
       "      <td>0</td>\n",
       "      <td>0</td>\n",
       "      <td>Yes</td>\n",
       "      <td>Private</td>\n",
       "      <td>Urban</td>\n",
       "      <td>171.23</td>\n",
       "      <td>34.4</td>\n",
       "      <td>smokes</td>\n",
       "      <td>1</td>\n",
       "    </tr>\n",
       "    <tr>\n",
       "      <th>4</th>\n",
       "      <td>1665</td>\n",
       "      <td>Female</td>\n",
       "      <td>79.0</td>\n",
       "      <td>1</td>\n",
       "      <td>0</td>\n",
       "      <td>Yes</td>\n",
       "      <td>Self-employed</td>\n",
       "      <td>Rural</td>\n",
       "      <td>174.12</td>\n",
       "      <td>24.0</td>\n",
       "      <td>never smoked</td>\n",
       "      <td>1</td>\n",
       "    </tr>\n",
       "    <tr>\n",
       "      <th>...</th>\n",
       "      <td>...</td>\n",
       "      <td>...</td>\n",
       "      <td>...</td>\n",
       "      <td>...</td>\n",
       "      <td>...</td>\n",
       "      <td>...</td>\n",
       "      <td>...</td>\n",
       "      <td>...</td>\n",
       "      <td>...</td>\n",
       "      <td>...</td>\n",
       "      <td>...</td>\n",
       "      <td>...</td>\n",
       "    </tr>\n",
       "    <tr>\n",
       "      <th>95</th>\n",
       "      <td>2458</td>\n",
       "      <td>Female</td>\n",
       "      <td>78.0</td>\n",
       "      <td>0</td>\n",
       "      <td>0</td>\n",
       "      <td>Yes</td>\n",
       "      <td>Private</td>\n",
       "      <td>Rural</td>\n",
       "      <td>235.63</td>\n",
       "      <td>32.3</td>\n",
       "      <td>never smoked</td>\n",
       "      <td>1</td>\n",
       "    </tr>\n",
       "    <tr>\n",
       "      <th>96</th>\n",
       "      <td>35512</td>\n",
       "      <td>Female</td>\n",
       "      <td>70.0</td>\n",
       "      <td>0</td>\n",
       "      <td>0</td>\n",
       "      <td>Yes</td>\n",
       "      <td>Self-employed</td>\n",
       "      <td>Rural</td>\n",
       "      <td>76.34</td>\n",
       "      <td>24.4</td>\n",
       "      <td>formerly smoked</td>\n",
       "      <td>1</td>\n",
       "    </tr>\n",
       "    <tr>\n",
       "      <th>97</th>\n",
       "      <td>56841</td>\n",
       "      <td>Male</td>\n",
       "      <td>58.0</td>\n",
       "      <td>0</td>\n",
       "      <td>1</td>\n",
       "      <td>Yes</td>\n",
       "      <td>Private</td>\n",
       "      <td>Rural</td>\n",
       "      <td>240.59</td>\n",
       "      <td>31.4</td>\n",
       "      <td>smokes</td>\n",
       "      <td>1</td>\n",
       "    </tr>\n",
       "    <tr>\n",
       "      <th>98</th>\n",
       "      <td>8154</td>\n",
       "      <td>Male</td>\n",
       "      <td>57.0</td>\n",
       "      <td>1</td>\n",
       "      <td>0</td>\n",
       "      <td>Yes</td>\n",
       "      <td>Govt_job</td>\n",
       "      <td>Urban</td>\n",
       "      <td>78.92</td>\n",
       "      <td>27.7</td>\n",
       "      <td>formerly smoked</td>\n",
       "      <td>1</td>\n",
       "    </tr>\n",
       "    <tr>\n",
       "      <th>99</th>\n",
       "      <td>4639</td>\n",
       "      <td>Female</td>\n",
       "      <td>69.0</td>\n",
       "      <td>0</td>\n",
       "      <td>0</td>\n",
       "      <td>Yes</td>\n",
       "      <td>Govt_job</td>\n",
       "      <td>Urban</td>\n",
       "      <td>82.81</td>\n",
       "      <td>28.0</td>\n",
       "      <td>never smoked</td>\n",
       "      <td>1</td>\n",
       "    </tr>\n",
       "  </tbody>\n",
       "</table>\n",
       "<p>100 rows × 12 columns</p>\n",
       "</div>"
      ],
      "text/plain": [
       "       id  gender   age  hypertension  heart_disease ever_married  \\\n",
       "0    9046    Male  67.0             0              1          Yes   \n",
       "1   51676  Female  61.0             0              0          Yes   \n",
       "2   31112    Male  80.0             0              1          Yes   \n",
       "3   60182  Female  49.0             0              0          Yes   \n",
       "4    1665  Female  79.0             1              0          Yes   \n",
       "..    ...     ...   ...           ...            ...          ...   \n",
       "95   2458  Female  78.0             0              0          Yes   \n",
       "96  35512  Female  70.0             0              0          Yes   \n",
       "97  56841    Male  58.0             0              1          Yes   \n",
       "98   8154    Male  57.0             1              0          Yes   \n",
       "99   4639  Female  69.0             0              0          Yes   \n",
       "\n",
       "        work_type Residence_type  avg_glucose_level   bmi   smoking_status  \\\n",
       "0         Private          Urban             228.69  36.6  formerly smoked   \n",
       "1   Self-employed          Rural             202.21  28.9     never smoked   \n",
       "2         Private          Rural             105.92  32.5     never smoked   \n",
       "3         Private          Urban             171.23  34.4           smokes   \n",
       "4   Self-employed          Rural             174.12  24.0     never smoked   \n",
       "..            ...            ...                ...   ...              ...   \n",
       "95        Private          Rural             235.63  32.3     never smoked   \n",
       "96  Self-employed          Rural              76.34  24.4  formerly smoked   \n",
       "97        Private          Rural             240.59  31.4           smokes   \n",
       "98       Govt_job          Urban              78.92  27.7  formerly smoked   \n",
       "99       Govt_job          Urban              82.81  28.0     never smoked   \n",
       "\n",
       "    stroke  \n",
       "0        1  \n",
       "1        1  \n",
       "2        1  \n",
       "3        1  \n",
       "4        1  \n",
       "..     ...  \n",
       "95       1  \n",
       "96       1  \n",
       "97       1  \n",
       "98       1  \n",
       "99       1  \n",
       "\n",
       "[100 rows x 12 columns]"
      ]
     },
     "execution_count": 42,
     "metadata": {},
     "output_type": "execute_result"
    }
   ],
   "source": [
    "df.head(100)"
   ]
  },
  {
   "cell_type": "code",
   "execution_count": 5,
   "id": "db70df1a",
   "metadata": {},
   "outputs": [
    {
     "data": {
      "text/plain": [
       "5110"
      ]
     },
     "execution_count": 5,
     "metadata": {},
     "output_type": "execute_result"
    }
   ],
   "source": [
    "len(df) #total no of records"
   ]
  },
  {
   "cell_type": "code",
   "execution_count": 8,
   "id": "0f52238a",
   "metadata": {},
   "outputs": [
    {
     "data": {
      "text/plain": [
       "201"
      ]
     },
     "execution_count": 8,
     "metadata": {},
     "output_type": "execute_result"
    }
   ],
   "source": [
    "df.isna().sum().sum() #Count NaN values under an entire DataFrame"
   ]
  },
  {
   "cell_type": "code",
   "execution_count": 15,
   "id": "6500fbab",
   "metadata": {},
   "outputs": [],
   "source": [
    "bmi_mean=df['bmi'].mean()    #mean ,median ,mode for BMI column\n",
    "bmi_median=df['bmi'].median()\n",
    "bmi_std_deviation=df['bmi'].std() "
   ]
  },
  {
   "cell_type": "code",
   "execution_count": 19,
   "id": "25e45da5",
   "metadata": {},
   "outputs": [
    {
     "data": {
      "image/png": "[encoded data removed]",
      "text/plain": [
       "<Figure size 432x288 with 1 Axes>"
      ]
     },
     "metadata": {
      "needs_background": "light"
     },
     "output_type": "display_data"
    }
   ],
   "source": [
    "df[\"bmi\"].hist();\n",
    "#it shows that most people is having bmi count in range of 20 to 40"
   ]
  },
  {
   "cell_type": "code",
   "execution_count": 29,
   "id": "287bbcb0",
   "metadata": {},
   "outputs": [
    {
     "data": {
      "image/png": "[encoded data removed]",
      "text/plain": [
       "<Figure size 432x288 with 2 Axes>"
      ]
     },
     "metadata": {
      "needs_background": "light"
     },
     "output_type": "display_data"
    }
   ],
   "source": [
    "df.plot.hexbin(x=\"age\",y=\"avg_glucose_level\",gridsize=25);\n",
    "\n",
    "#this grapoh shows that avg glucose level of most of the age group is around 80-100"
   ]
  },
  {
   "cell_type": "code",
   "execution_count": 31,
   "id": "88219373",
   "metadata": {},
   "outputs": [
    {
     "data": {
      "text/plain": [
       "201"
      ]
     },
     "execution_count": 31,
     "metadata": {},
     "output_type": "execute_result"
    }
   ],
   "source": [
    "df['bmi'].isna().sum() #null values in bmi"
   ]
  },
  {
   "cell_type": "code",
   "execution_count": 35,
   "id": "eb7fc3ab",
   "metadata": {},
   "outputs": [],
   "source": [
    "percentage_of_null_in_bmi= df['bmi'].isna().sum() * 100 / len(df)"
   ]
  },
  {
   "cell_type": "code",
   "execution_count": 36,
   "id": "2cc420f2",
   "metadata": {},
   "outputs": [
    {
     "data": {
      "text/plain": [
       "3.9334637964774952"
      ]
     },
     "execution_count": 36,
     "metadata": {},
     "output_type": "execute_result"
    }
   ],
   "source": [
    "percentage_of_null_in_bmi  #percentage of null values in bmi"
   ]
  },
  {
   "cell_type": "code",
   "execution_count": 39,
   "id": "44607003",
   "metadata": {},
   "outputs": [],
   "source": [
    "\n",
    "df['bmi'].fillna(df['bmi'].mean(), inplace=True)\n",
    "##To insert the mean value of bmi column into null values"
   ]
  },
  {
   "cell_type": "code",
   "execution_count": 40,
   "id": "4ad63c27",
   "metadata": {},
   "outputs": [
    {
     "data": {
      "text/plain": [
       "0"
      ]
     },
     "execution_count": 40,
     "metadata": {},
     "output_type": "execute_result"
    }
   ],
   "source": [
    "df['bmi'].isna().sum()  #here we can check that null values are removed from bmi column"
   ]
  },
  {
   "cell_type": "code",
   "execution_count": 44,
   "id": "0c42615f",
   "metadata": {},
   "outputs": [],
   "source": [
    "\n",
    "cols = ['age', 'bmi'] #( one or more column )deleting outliers in pandas\n",
    "\n",
    "Q1 = df[cols].quantile(0.25)\n",
    "Q3 = df[cols].quantile(0.75)\n",
    "IQR = Q3 - Q1\n",
    "\n",
    "df = df[~((df[cols] < (Q1 - 1.5 * IQR)) |(df[cols] > (Q3 + 1.5 * IQR))).any(axis=1)]\n"
   ]
  },
  {
   "cell_type": "code",
   "execution_count": 53,
   "id": "38351d79",
   "metadata": {},
   "outputs": [
    {
     "name": "stdout",
     "output_type": "stream",
     "text": [
      "[[-1.30318495e+00  1.04433748e+00 -3.25323481e-01 ...  2.74315576e+00\n",
      "   1.25420008e+00  4.38864018e+00]\n",
      " [ 7.12544254e-01  7.81005936e-01 -3.25323481e-01 ...  2.15240128e+00\n",
      "   9.28044021e-02  4.38864018e+00]\n",
      " [-2.59809850e-01  1.61488917e+00 -3.25323481e-01 ...  4.22344384e-03\n",
      "   6.35794588e-01  4.38864018e+00]\n",
      " ...\n",
      " [-7.98330609e-01 -3.60097438e-01 -3.25323481e-01 ... -5.07332458e-01\n",
      "   3.49216434e-01 -2.27861014e-01]\n",
      " [ 4.43226923e-02  3.42120023e-01 -3.25323481e-01 ...  1.35104550e+00\n",
      "  -4.04936602e-01 -2.27861014e-01]\n",
      " [ 3.81696089e-01  3.48998838e-02 -3.25323481e-01 ... -4.56243796e-01\n",
      "  -3.14438237e-01 -2.27861014e-01]]\n"
     ]
    }
   ],
   "source": [
    "from sklearn.preprocessing import StandardScaler\n",
    "columnlist=['id','age','hypertension','heart_disease','avg_glucose_level','bmi','stroke']\n",
    "scale=StandardScaler()\n",
    "scaled_df =df[['id','age','hypertension','heart_disease','avg_glucose_level','bmi','stroke']]\n",
    "scaled_df=scale.fit_transform(scaled_df)\n",
    "print(scaled_df)\n"
   ]
  },
  {
   "cell_type": "code",
   "execution_count": 55,
   "id": "1ff909a4",
   "metadata": {},
   "outputs": [
    {
     "name": "stdout",
     "output_type": "stream",
     "text": [
      "[1 1 1 1 1 1 0 1 1 1 1 1 1 1 1 1 1 0 0]\n"
     ]
    }
   ],
   "source": [
    "from sklearn.preprocessing import LabelEncoder\n",
    "\n",
    "df_categorical=df[['gender','ever_married','work_type','Residence_type','smoking_status']]\n",
    "\n",
    "evermarried_encoder = LabelEncoder()\n",
    "evermarried_encoder.fit(df_categorical['ever_married'])\n",
    "evermarried_values=evermarried_encoder.transform(df_categorical['ever_married'])\n",
    "print(evermarried_values[1:20])"
   ]
  },
  {
   "cell_type": "code",
   "execution_count": 56,
   "id": "28fa439c",
   "metadata": {},
   "outputs": [
    {
     "name": "stdout",
     "output_type": "stream",
     "text": [
      "[0 0 1 0 1 0 1 0 1 0 0 1 1 1 0 1 1 1 1]\n",
      "[0 1 0 0 1 1 0 0 0 0 0 0 1 0 0 1 1 0 1]\n",
      "[3 2 2 3 2 2 2 2 2 2 0 2 2 2 3 2 2 2 0]\n",
      "[2 2 3 2 1 2 2 0 0 2 3 3 0 2 2 3 3 2 0]\n"
     ]
    }
   ],
   "source": [
    "\n",
    "residencetype_encoder = LabelEncoder()\n",
    "residencetype_encoder.fit(df_categorical['Residence_type'])\n",
    "residencetype_values=residencetype_encoder.transform(df_categorical['Residence_type'])\n",
    "print(residencetype_values[1:20])\n",
    "\n",
    "\n",
    "gender_encoder = LabelEncoder()\n",
    "gender_encoder.fit(df_categorical['gender'])\n",
    "gender_values=gender_encoder.transform(df_categorical['gender'])\n",
    "print(gender_values[1:20])\n",
    "\n",
    "\n",
    "work_type_encoder = LabelEncoder()\n",
    "work_type_encoder.fit(df_categorical['work_type'])\n",
    "work_type_values=work_type_encoder.transform(df_categorical['work_type'])\n",
    "print(work_type_values[1:20])\n",
    "\n",
    "\n",
    "smokingstatus_encoder = LabelEncoder()\n",
    "smokingstatus_encoder.fit(df_categorical['smoking_status'])\n",
    "smokingstatus_values=smokingstatus_encoder.transform(df_categorical['smoking_status'])\n",
    "print(smokingstatus_values[1:20])\n",
    "\n"
   ]
  },
  {
   "cell_type": "code",
   "execution_count": null,
   "id": "cbe6bf24",
   "metadata": {},
   "outputs": [],
   "source": []
  }
 ],
 "metadata": {
  "kernelspec": {
   "display_name": "Python 3 (ipykernel)",
   "language": "python",
   "name": "python3"
  },
  "language_info": {
   "codemirror_mode": {
    "name": "ipython",
    "version": 3
   },
   "file_extension": ".py",
   "mimetype": "text/x-python",
   "name": "python",
   "nbconvert_exporter": "python",
   "pygments_lexer": "ipython3",
   "version": "3.9.13"
  }
 },
 "nbformat": 4,
 "nbformat_minor": 5
}
